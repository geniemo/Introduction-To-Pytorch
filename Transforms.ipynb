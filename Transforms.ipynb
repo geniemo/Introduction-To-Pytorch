{
 "cells": [
  {
   "cell_type": "markdown",
   "id": "d88b584d",
   "metadata": {},
   "source": [
    " # Transforms"
   ]
  },
  {
   "cell_type": "markdown",
   "id": "69a07cff",
   "metadata": {},
   "source": [
    "모든 TorchVision dataset들은 callable한 객체를 받는 매개변수인 transform과 target_transform을 갖는다.\n",
    "\n",
    "FashionMNIST feature는 PIL Image 형식이며 label은 정수이다. 학습을 하려면 정규화된 텐서 형태의 feature와 one-hot encoded 텐서 형태의 label이 필요하다. 이를 위해 ToTensor와 Lambda를 사용한다.\n",
    "\n",
    "ToTensor는 PIL Image나 Numpy ndarray를 FloatTensor로 변환하고, 이미지 픽셀 intensity를 [0., 1.] 범위로 조정한다.\n",
    "\n",
    "Lambda Transform은 사용자 정의 lambda 함수를 적용한다."
   ]
  },
  {
   "cell_type": "code",
   "execution_count": 1,
   "id": "ec2e1351",
   "metadata": {},
   "outputs": [],
   "source": [
    "import torch\n",
    "from torchvision import datasets\n",
    "from torchvision.transforms import ToTensor, Lambda"
   ]
  },
  {
   "cell_type": "code",
   "execution_count": 2,
   "id": "03b2d366",
   "metadata": {},
   "outputs": [],
   "source": [
    "ds = datasets.FashionMNIST(\n",
    "    root='data',\n",
    "    train=True,\n",
    "    download=True,\n",
    "    transform=ToTensor(),\n",
    "    target_transform=Lambda(lambda y: torch.zeros(10, dtype=torch.float).scatter_(0, torch.tensor(y), value=1))\n",
    ")"
   ]
  }
 ],
 "metadata": {
  "kernelspec": {
   "display_name": "Python 3 (ipykernel)",
   "language": "python",
   "name": "python3"
  },
  "language_info": {
   "codemirror_mode": {
    "name": "ipython",
    "version": 3
   },
   "file_extension": ".py",
   "mimetype": "text/x-python",
   "name": "python",
   "nbconvert_exporter": "python",
   "pygments_lexer": "ipython3",
   "version": "3.11.5"
  }
 },
 "nbformat": 4,
 "nbformat_minor": 5
}
