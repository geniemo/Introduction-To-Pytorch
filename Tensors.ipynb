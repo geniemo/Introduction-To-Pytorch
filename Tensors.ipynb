{
 "cells": [
  {
   "cell_type": "code",
   "execution_count": 2,
   "id": "991fad28",
   "metadata": {},
   "outputs": [],
   "source": [
    "import torch\n",
    "import numpy as np"
   ]
  },
  {
   "cell_type": "markdown",
   "id": "992622bb",
   "metadata": {},
   "source": [
    "## Initializing a Tensor"
   ]
  },
  {
   "cell_type": "markdown",
   "id": "b60a9aea",
   "metadata": {},
   "source": [
    "Tensor는 data로부터 direct하게 만들어질 수 있다."
   ]
  },
  {
   "cell_type": "code",
   "execution_count": 3,
   "id": "db5a4030",
   "metadata": {},
   "outputs": [],
   "source": [
    "data = [[1, 2], [3, 4]]\n",
    "x_data = torch.tensor(data)"
   ]
  },
  {
   "cell_type": "markdown",
   "id": "1779b9d3",
   "metadata": {},
   "source": [
    "numpy 배열로부터 만들어질 수도 있고, 거꾸로도 된다."
   ]
  },
  {
   "cell_type": "code",
   "execution_count": 4,
   "id": "0b9df04e",
   "metadata": {},
   "outputs": [],
   "source": [
    "np_array = np.array(data)\n",
    "x_np = torch.from_numpy(np_array)"
   ]
  },
  {
   "cell_type": "markdown",
   "id": "dc765f56",
   "metadata": {},
   "source": [
    "다른 tensor를 이용해 tensor를 만들 때, 명시적으로 override 하지 않는 한 property들을 이어받는다."
   ]
  },
  {
   "cell_type": "code",
   "execution_count": 5,
   "id": "42743c8d",
   "metadata": {},
   "outputs": [
    {
     "name": "stdout",
     "output_type": "stream",
     "text": [
      "Ones Tensor:\n",
      " tensor([[1, 1],\n",
      "        [1, 1]])\n",
      "\n",
      "Random Tensor:\n",
      " tensor([[0.2171, 0.9642],\n",
      "        [0.3774, 0.2187]])\n",
      "\n"
     ]
    }
   ],
   "source": [
    "x_ones = torch.ones_like(x_data)\n",
    "print(f'Ones Tensor:\\n {x_ones}\\n')\n",
    "\n",
    "x_rand = torch.rand_like(x_data, dtype=torch.float)\n",
    "print(f'Random Tensor:\\n {x_rand}\\n')"
   ]
  },
  {
   "cell_type": "markdown",
   "id": "1dbc6445",
   "metadata": {},
   "source": [
    "아래와 같이 tensor의 차원을 정해줘서 만들 수도 있다."
   ]
  },
  {
   "cell_type": "code",
   "execution_count": 7,
   "id": "8ca1c709",
   "metadata": {},
   "outputs": [
    {
     "name": "stdout",
     "output_type": "stream",
     "text": [
      "Random Tensor:\n",
      " tensor([[0.8683, 0.8963, 0.7766],\n",
      "        [0.5497, 0.0648, 0.2000]])\n",
      "\n",
      "Ones Tensor\"\n",
      " tensor([[1., 1., 1.],\n",
      "        [1., 1., 1.]])\n",
      "\n",
      "Zeros Tensor:\n",
      " tensor([[0., 0., 0.],\n",
      "        [0., 0., 0.]])\n",
      "\n"
     ]
    }
   ],
   "source": [
    "shape = (2, 3,)\n",
    "rand_tensor = torch.rand(shape)\n",
    "ones_tensor = torch.ones(shape)\n",
    "zeros_tensor = torch.zeros(shape)\n",
    "\n",
    "print(f'Random Tensor:\\n {rand_tensor}\\n')\n",
    "print(f'Ones Tensor\"\\n {ones_tensor}\\n')\n",
    "print(f'Zeros Tensor:\\n {zeros_tensor}\\n')"
   ]
  },
  {
   "cell_type": "markdown",
   "id": "527bfa4f",
   "metadata": {},
   "source": [
    "## Attributes of a Tensor"
   ]
  },
  {
   "cell_type": "markdown",
   "id": "6e191e64",
   "metadata": {},
   "source": [
    "텐서의 attributes는 shape, datatype과 저장되어 있는 장소인 device를 나타낸다."
   ]
  },
  {
   "cell_type": "code",
   "execution_count": 8,
   "id": "c389d4d8",
   "metadata": {},
   "outputs": [
    {
     "name": "stdout",
     "output_type": "stream",
     "text": [
      "Shape of tensor: torch.Size([3, 4])\n",
      "Datatype of tensor: torch.float32\n",
      "Device tensor is stored on: cpu\n"
     ]
    }
   ],
   "source": [
    "tensor = torch.rand(3, 4)\n",
    "\n",
    "print(f'Shape of tensor: {tensor.shape}')\n",
    "print(f'Datatype of tensor: {tensor.dtype}')\n",
    "print(f'Device tensor is stored on: {tensor.device}')"
   ]
  },
  {
   "cell_type": "markdown",
   "id": "e5c68c4c",
   "metadata": {},
   "source": [
    "## Operations on Tensors"
   ]
  },
  {
   "cell_type": "markdown",
   "id": "e2ee0555",
   "metadata": {},
   "source": [
    "100가지가 넘는 tensor operation들은 [여기](https://pytorch.org/tutorials/beginner/basics/tensorqs_tutorial.html)에서 볼 수 있다.\n",
    "\n",
    "이런 연산들은 GPU에서 CPU보다 더 빠른 속도로 수행될 수 있다. Tensor는 기본적으로는 CPU에 생성되므로 GPU 사용 가능 여부를 확인한 후 .to 메소드를 이용해 GPU로 옮길 필요가 있다."
   ]
  },
  {
   "cell_type": "code",
   "execution_count": 9,
   "id": "905a439d",
   "metadata": {},
   "outputs": [],
   "source": [
    "if torch.cuda.is_available():\n",
    "    tensor = tensor.to('cuda')"
   ]
  },
  {
   "cell_type": "code",
   "execution_count": 10,
   "id": "cb1c650d",
   "metadata": {},
   "outputs": [
    {
     "name": "stdout",
     "output_type": "stream",
     "text": [
      "First row: tensor([1., 1., 1., 1.])\n",
      "First column: tensor([1., 1., 1., 1.])\n",
      "Last column: tensor([1., 1., 1., 1.])\n"
     ]
    },
    {
     "data": {
      "text/plain": [
       "tensor([[1., 0., 1., 1.],\n",
       "        [1., 0., 1., 1.],\n",
       "        [1., 0., 1., 1.],\n",
       "        [1., 0., 1., 1.]])"
      ]
     },
     "execution_count": 10,
     "metadata": {},
     "output_type": "execute_result"
    }
   ],
   "source": [
    "tensor = torch.ones(4, 4)\n",
    "print(f'First row: {tensor[0]}')\n",
    "print(f'First column: {tensor[:, 0]}')\n",
    "print(f'Last column: {tensor[..., -1]}')\n",
    "tensor[:, 1] = 0\n",
    "tensor"
   ]
  },
  {
   "cell_type": "markdown",
   "id": "3ee44377",
   "metadata": {},
   "source": [
    "tensor를 join 할 때에는 torch.cat 을 사용할 수 있다. [torch stack](https://pytorch.org/docs/stable/generated/torch.stack.html)도 살펴보자."
   ]
  },
  {
   "cell_type": "code",
   "execution_count": 11,
   "id": "47ea8a57",
   "metadata": {},
   "outputs": [
    {
     "data": {
      "text/plain": [
       "tensor([[1., 0., 1., 1., 1., 0., 1., 1., 1., 0., 1., 1.],\n",
       "        [1., 0., 1., 1., 1., 0., 1., 1., 1., 0., 1., 1.],\n",
       "        [1., 0., 1., 1., 1., 0., 1., 1., 1., 0., 1., 1.],\n",
       "        [1., 0., 1., 1., 1., 0., 1., 1., 1., 0., 1., 1.]])"
      ]
     },
     "execution_count": 11,
     "metadata": {},
     "output_type": "execute_result"
    }
   ],
   "source": [
    "t1 = torch.cat([tensor, tensor, tensor], dim=1)\n",
    "t1"
   ]
  },
  {
   "cell_type": "markdown",
   "id": "ebd42a48",
   "metadata": {},
   "source": [
    "아래에서는 두 행렬 간 행렬곱을 계산한다. y1, y2, y3은 같은 값을 가진다."
   ]
  },
  {
   "cell_type": "code",
   "execution_count": 12,
   "id": "13c1453d",
   "metadata": {},
   "outputs": [
    {
     "data": {
      "text/plain": [
       "tensor([[3., 3., 3., 3.],\n",
       "        [3., 3., 3., 3.],\n",
       "        [3., 3., 3., 3.],\n",
       "        [3., 3., 3., 3.]])"
      ]
     },
     "execution_count": 12,
     "metadata": {},
     "output_type": "execute_result"
    }
   ],
   "source": [
    "y1 = tensor @ tensor.T\n",
    "y2 = tensor.matmul(tensor.T)\n",
    "\n",
    "y3 = torch.rand_like(y1)\n",
    "torch.matmul(tensor, tensor.T, out=y3)"
   ]
  },
  {
   "cell_type": "markdown",
   "id": "89aa3d52",
   "metadata": {},
   "source": [
    "아래에서는 element-wise product를 수행한다. z1, z2, z3이 같은 값을 가진다."
   ]
  },
  {
   "cell_type": "code",
   "execution_count": 13,
   "id": "895719fd",
   "metadata": {},
   "outputs": [
    {
     "data": {
      "text/plain": [
       "tensor([[1., 0., 1., 1.],\n",
       "        [1., 0., 1., 1.],\n",
       "        [1., 0., 1., 1.],\n",
       "        [1., 0., 1., 1.]])"
      ]
     },
     "execution_count": 13,
     "metadata": {},
     "output_type": "execute_result"
    }
   ],
   "source": [
    "z1 = tensor * tensor\n",
    "z2 = tensor.mul(tensor)\n",
    "\n",
    "z3 = torch.rand_like(tensor)\n",
    "torch.mul(tensor, tensor, out=z3)"
   ]
  },
  {
   "cell_type": "markdown",
   "id": "09bb4375",
   "metadata": {},
   "source": [
    "one-element tensor가 있다면, item()을 이용해 이걸 python numerical value로 바꿀 수 있다."
   ]
  },
  {
   "cell_type": "code",
   "execution_count": 14,
   "id": "2e5a05a4",
   "metadata": {},
   "outputs": [
    {
     "name": "stdout",
     "output_type": "stream",
     "text": [
      "12.0 <class 'float'>\n"
     ]
    }
   ],
   "source": [
    "agg = tensor.sum()\n",
    "agg_item = agg.item()\n",
    "print(agg_item, type(agg_item))"
   ]
  },
  {
   "cell_type": "markdown",
   "id": "bfacb03c",
   "metadata": {},
   "source": [
    "in-place로 연산은 _ suffix 를 붙임으로써 수행할 수 있다."
   ]
  },
  {
   "cell_type": "code",
   "execution_count": 15,
   "id": "c45a064f",
   "metadata": {},
   "outputs": [
    {
     "name": "stdout",
     "output_type": "stream",
     "text": [
      "tensor([[1., 0., 1., 1.],\n",
      "        [1., 0., 1., 1.],\n",
      "        [1., 0., 1., 1.],\n",
      "        [1., 0., 1., 1.]])\n",
      "\n",
      "tensor([[6., 5., 6., 6.],\n",
      "        [6., 5., 6., 6.],\n",
      "        [6., 5., 6., 6.],\n",
      "        [6., 5., 6., 6.]])\n"
     ]
    }
   ],
   "source": [
    "print(f'{tensor}\\n')\n",
    "tensor.add_(5)\n",
    "print(tensor)"
   ]
  },
  {
   "cell_type": "markdown",
   "id": "e4361417",
   "metadata": {},
   "source": [
    "## Bridge with Numpy"
   ]
  },
  {
   "cell_type": "markdown",
   "id": "d5f90cb6",
   "metadata": {},
   "source": [
    "tensor to numpy array"
   ]
  },
  {
   "cell_type": "code",
   "execution_count": 17,
   "id": "659c5671",
   "metadata": {},
   "outputs": [
    {
     "name": "stdout",
     "output_type": "stream",
     "text": [
      "t: tensor([1., 1., 1., 1., 1.])\n",
      "n: [1. 1. 1. 1. 1.]\n"
     ]
    }
   ],
   "source": [
    "t = torch.ones(5)\n",
    "print(f't: {t}')\n",
    "n = t.numpy()\n",
    "print(f'n: {n}')"
   ]
  },
  {
   "cell_type": "code",
   "execution_count": 18,
   "id": "2b89fb9d",
   "metadata": {},
   "outputs": [
    {
     "name": "stdout",
     "output_type": "stream",
     "text": [
      "t: tensor([2., 2., 2., 2., 2.])\n",
      "n: [2. 2. 2. 2. 2.]\n"
     ]
    }
   ],
   "source": [
    "t.add_(1)\n",
    "print(f't: {t}')\n",
    "print(f'n: {n}')"
   ]
  },
  {
   "cell_type": "markdown",
   "id": "7158e327",
   "metadata": {},
   "source": [
    "numpy array to tensor"
   ]
  },
  {
   "cell_type": "code",
   "execution_count": 19,
   "id": "fae389a1",
   "metadata": {},
   "outputs": [],
   "source": [
    "n = np.ones(5)\n",
    "t = torch.from_numpy(n)"
   ]
  },
  {
   "cell_type": "code",
   "execution_count": 20,
   "id": "d46fa0a8",
   "metadata": {},
   "outputs": [
    {
     "name": "stdout",
     "output_type": "stream",
     "text": [
      "t: tensor([2., 2., 2., 2., 2.], dtype=torch.float64)\n",
      "n: [2. 2. 2. 2. 2.]\n"
     ]
    }
   ],
   "source": [
    "np.add(n, 1, out=n)\n",
    "print(f't: {t}')\n",
    "print(f'n: {n}')"
   ]
  }
 ],
 "metadata": {
  "kernelspec": {
   "display_name": "Python 3 (ipykernel)",
   "language": "python",
   "name": "python3"
  },
  "language_info": {
   "codemirror_mode": {
    "name": "ipython",
    "version": 3
   },
   "file_extension": ".py",
   "mimetype": "text/x-python",
   "name": "python",
   "nbconvert_exporter": "python",
   "pygments_lexer": "ipython3",
   "version": "3.11.5"
  }
 },
 "nbformat": 4,
 "nbformat_minor": 5
}
